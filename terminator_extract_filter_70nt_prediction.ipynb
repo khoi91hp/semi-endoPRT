{
 "cells": [
  {
   "cell_type": "code",
   "execution_count": null,
   "metadata": {},
   "outputs": [],
   "source": [
    "########## this script needs 20Z_chromosome.gff, 20Z_chromosome.fasta, E. coli.gff, E. coli.fasta (NC_000913.3.gff and NC_000913.3.fasta) #####"
   ]
  },
  {
   "cell_type": "code",
   "execution_count": 15,
   "metadata": {},
   "outputs": [],
   "source": [
    "####################################extract 70nt 20Z########################################################\n",
    "#### get DNA seq of each gene in genome\n",
    "## sequence DNA fasta file\n",
    "import pandas as pd\n",
    "from Bio import SeqIO\n",
    "from Bio.Seq import Seq\n",
    "def get_sequence_from_fasta( file_sequence ) :     \n",
    "    with open( file_sequence, \"r\" ) as f :         \n",
    "        seq_genome = SeqIO.to_dict( SeqIO.parse( f, \"fasta\" ))     \n",
    "        chro = list(seq_genome.values())[0]     \n",
    "        return chro\n",
    "s=\"20Z_chromosome\"\n",
    "file_get=get_sequence_from_fasta(\"%s.fasta\" %s) ##input file 1\n",
    "shift=[70] ## number of nucleotide will be taken\n",
    "for value in shift: \n",
    "    gff_file=pd.read_csv(\"%s.gff\" %s, sep=\"\\t\", header= None) ###input file 2\n",
    "    gff_file.columns = (\"NCBI_ID\", \"feature\",\"properties\",\"start\", \"end\",\"score\",\"strand\", \"point\",\"attribute\")\n",
    "    type_=[]\n",
    "    start=[]\n",
    "    end=[]\n",
    "    name_locus_tag=[]\n",
    "    strand=[]\n",
    "    name_file=\"%s_terminator.txt\" %s\n",
    "    with open (name_file,\"w\") as wf:\n",
    "        for i, row in gff_file.iterrows():\n",
    "            if row.attribute.split(\";\")[2].split(\"=\")[1] == \"CDS\":\n",
    "                start.append(row.start)\n",
    "                end.append(row.end)\n",
    "                strand.append(row.strand)\n",
    "                type_.append (row.attribute.split(\";\")[2].split(\"=\")[1])\n",
    "                name_locus_tag.append(row.attribute.split(\";\")[1].split(\"=\")[1])\n",
    "        for j in range (len(name_locus_tag)):\n",
    "            if strand[j] == \"+\" and end[j]+value <= len(file_get):\n",
    "                if (j==0):\n",
    "                    wf.write ( \">\"+str(name_locus_tag[j])+\"_\"+str(type_[j])+\"_\"+str(j+1)+\"\\n\")\n",
    "                    for x in range (end[j],end[j]+value):\n",
    "                        wf.write (file_get[x-1])\n",
    "                else:\n",
    "                    wf.write (\"\\n>\"+str(name_locus_tag[j])+\"_\"+str(type_[j])+\"_\"+str(j+1)+\"\\n\")\n",
    "                    for x in range (end[j],end[j]+value):\n",
    "                        wf.write(file_get[x-1])\n",
    "            elif strand[j] == \"-\" and start[j] > value:\n",
    "                if (j==0):\n",
    "                    wf.write ( \">\"+str(name_locus_tag[j])+\"_\"+str(type_[j])+\"_\"+str(j+1)+\"\\n\")\n",
    "                    for x in range (start[j]-value,start[j]):\n",
    "                        wf.write (file_get[x-1])\n",
    "                else:\n",
    "                    wf.write (\"\\n>\"+str(name_locus_tag[j])+\"_\"+str(type_[j])+\"_\"+str(j+1)+\"\\n\")\n",
    "                    for x in range (start[j]-value,start[j]):\n",
    "                        wf.write(file_get[x-1])"
   ]
  },
  {
   "cell_type": "code",
   "execution_count": null,
   "metadata": {},
   "outputs": [],
   "source": [
    "########## note #######\n",
    "## the first and last gene may not count because of out of range ####"
   ]
  },
  {
   "cell_type": "code",
   "execution_count": 16,
   "metadata": {},
   "outputs": [],
   "source": [
    "####################################extract 70nt E.coli########################################################\n",
    "#### get DNA seq of each gene in genome\n",
    "## sequence DNA fasta file\n",
    "import pandas as pd\n",
    "from Bio import SeqIO\n",
    "from Bio.Seq import Seq\n",
    "def get_sequence_from_fasta( file_sequence ) :     \n",
    "    with open( file_sequence, \"r\" ) as f :         \n",
    "        seq_genome = SeqIO.to_dict( SeqIO.parse( f, \"fasta\" ))     \n",
    "        chro = list(seq_genome.values())[0]     \n",
    "        return chro\n",
    "s=\"NC_000913.3\"\n",
    "file_get=get_sequence_from_fasta(\"%s.fasta\" %s) ##input file 1\n",
    "shift=[70] ## number of nucleotide will be taken\n",
    "for value in shift: \n",
    "    gff_file=pd.read_csv(\"%s.gff\" %s, sep=\"\\t\", header= None) ###input file 2\n",
    "    gff_file.columns = (\"NCBI_ID\", \"feature\",\"properties\",\"start\", \"end\",\"score\",\"strand\", \"point\",\"attribute\")\n",
    "    type_=[]\n",
    "    start=[]\n",
    "    end=[]\n",
    "    name_locus_tag=[]\n",
    "    strand=[]\n",
    "    name_file=\"%s_terminator.txt\" %s\n",
    "    with open (name_file,\"w\") as wf:\n",
    "        for i, row in gff_file.iterrows():\n",
    "            if row.attribute.split(\";\")[2].split(\"=\")[1] == \"CDS\":\n",
    "                start.append(row.start)\n",
    "                end.append(row.end)\n",
    "                strand.append(row.strand)\n",
    "                type_.append (row.attribute.split(\";\")[2].split(\"=\")[1])\n",
    "                name_locus_tag.append(row.attribute.split(\";\")[1].split(\"=\")[1])\n",
    "        for j in range (len(name_locus_tag)):\n",
    "            if strand[j] == \"+\" and end[j]+value <= len(file_get):\n",
    "                if (j==0):\n",
    "                    wf.write ( \">\"+str(name_locus_tag[j])+\"_\"+str(type_[j])+\"_\"+str(j+1)+\"\\n\")\n",
    "                    for x in range (end[j],end[j]+value):\n",
    "                        wf.write (file_get[x-1])\n",
    "                else:\n",
    "                    wf.write (\"\\n>\"+str(name_locus_tag[j])+\"_\"+str(type_[j])+\"_\"+str(j+1)+\"\\n\")\n",
    "                    for x in range (end[j],end[j]+value):\n",
    "                        wf.write(file_get[x-1])\n",
    "            elif strand[j] == \"-\" and start[j] > value:\n",
    "                if (j==0):\n",
    "                    wf.write ( \">\"+str(name_locus_tag[j])+\"_\"+str(type_[j])+\"_\"+str(j+1)+\"\\n\")\n",
    "                    for x in range (start[j]-value,start[j]):\n",
    "                        wf.write (file_get[x-1])\n",
    "                else:\n",
    "                    wf.write (\"\\n>\"+str(name_locus_tag[j])+\"_\"+str(type_[j])+\"_\"+str(j+1)+\"\\n\")\n",
    "                    for x in range (start[j]-value,start[j]):\n",
    "                        wf.write(file_get[x-1])"
   ]
  },
  {
   "cell_type": "code",
   "execution_count": null,
   "metadata": {},
   "outputs": [],
   "source": [
    "### run locally iTerm-PseKNC in window ####"
   ]
  },
  {
   "cell_type": "code",
   "execution_count": null,
   "metadata": {},
   "outputs": [],
   "source": []
  },
  {
   "cell_type": "code",
   "execution_count": null,
   "metadata": {},
   "outputs": [],
   "source": []
  },
  {
   "cell_type": "code",
   "execution_count": 58,
   "metadata": {},
   "outputs": [
    {
     "name": "stdout",
     "output_type": "stream",
     "text": [
      "number of predicted and filterd terminator:347\n"
     ]
    }
   ],
   "source": [
    "####################################filter 70nt 20Z########################################################\n",
    "file=\"total_result_20Z_chromosome_terminator_iTerm-PseKNC.txt\"\n",
    "alist = [line.rstrip() for line in open(file)]\n",
    "\n",
    "with open (\"filter_20Z_terminator.txt\", \"w\") as wf:\n",
    "    count=0\n",
    "    for i in range(len(alist)):\n",
    "        if i % 2 == 0:\n",
    "            ## thresold = 0.9\n",
    "            if alist[i].split(\"\\t\")[-1].split(\",\")[0] == \"1 is a terminator\" and float(alist[i].split(\"\\t\")[-1].split(\",\")[1].split(\" \")[-1]) >= 0.9:\n",
    "                count +=1\n",
    "                wf.write ( \">terminator_\"+str(count)+\"\\n\")\n",
    "                wf.write ( str(alist[i+1])+\"\\n\")\n",
    "print (\"number of predicted and filterd terminator:\" + str(count))"
   ]
  },
  {
   "cell_type": "code",
   "execution_count": null,
   "metadata": {},
   "outputs": [],
   "source": [
    "!meme filter_20Z_terminator -dna -revcomp -nmotifs 5 -w 20 -brief 4000 -oc meme_rs/\n",
    "!meme 20Z_chromosome_list_terminator_70.fasta -dna -revcomp -nmotifs 5 -w 20 -brief 4000 -oc meme_rs/"
   ]
  },
  {
   "cell_type": "code",
   "execution_count": null,
   "metadata": {},
   "outputs": [],
   "source": []
  },
  {
   "cell_type": "code",
   "execution_count": 57,
   "metadata": {},
   "outputs": [
    {
     "name": "stdout",
     "output_type": "stream",
     "text": [
      "number of predicted and filterd terminator:239\n"
     ]
    }
   ],
   "source": [
    "####################################filter 70nt E.coli ########################################################\n",
    "file=\"total_result_Ecoli_chromosome_terminator_iTerm-PseKNC.txt\"\n",
    "alist = [line.rstrip() for line in open(file)]\n",
    "\n",
    "with open (\"filter_E_coli_terminator.txt\", \"w\") as wf:\n",
    "    count=0\n",
    "    for i in range(len(alist)):\n",
    "        if i % 2 == 0:\n",
    "            ## thresold = 0.9\n",
    "            if alist[i].split(\"\\t\")[-1].split(\",\")[0] == \"1 is a terminator\" and float(alist[i].split(\"\\t\")[-1].split(\",\")[1].split(\" \")[-1]) >= 0.9:\n",
    "                count +=1\n",
    "                wf.write ( \">terminator_\"+str(count)+\"\\n\")\n",
    "                wf.write ( str(alist[i+1])+\"\\n\")\n",
    "print (\"number of predicted and filterd terminator:\" + str(count))"
   ]
  },
  {
   "cell_type": "code",
   "execution_count": null,
   "metadata": {},
   "outputs": [],
   "source": [
    "!meme filter_E_coli_terminator.txt -dna -revcomp -nmotifs 5 -w 20 -brief 4000 -oc meme_rs/"
   ]
  },
  {
   "cell_type": "code",
   "execution_count": null,
   "metadata": {},
   "outputs": [],
   "source": []
  }
 ],
 "metadata": {
  "kernelspec": {
   "display_name": "Python 3",
   "language": "python",
   "name": "python3"
  },
  "language_info": {
   "codemirror_mode": {
    "name": "ipython",
    "version": 3
   },
   "file_extension": ".py",
   "mimetype": "text/x-python",
   "name": "python",
   "nbconvert_exporter": "python",
   "pygments_lexer": "ipython3",
   "version": "3.8.10"
  }
 },
 "nbformat": 4,
 "nbformat_minor": 5
}
