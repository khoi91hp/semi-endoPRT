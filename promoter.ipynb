{
 "cells": [
  {
   "cell_type": "code",
   "execution_count": 7,
   "metadata": {},
   "outputs": [],
   "source": [
    "#### promoter 20Z #######\n",
    "import pandas as pd\n",
    "promoter_file=pd.read_csv(\"genome_predictions_20Z_0.8_promoter.csv\", sep=\"\\t\") ###input file 2\n",
    "name_file = \"20Z_promoter_prediction_filter_0.8.fasta\"\n",
    "with open (name_file,\"w\") as wf:\n",
    "        count=0\n",
    "        for i, row in promoter_file.iterrows():\n",
    "            count +=1\n",
    "            wf.write ( \">sequence_\"+str(count)+\"\\n\")\n",
    "            wf.write (str(row.sequence)+\"\\n\")"
   ]
  },
  {
   "cell_type": "code",
   "execution_count": 9,
   "metadata": {},
   "outputs": [],
   "source": [
    "### motif by meme ###\n",
    "!meme 20Z_promoter_prediction_filter_0.8.fasta -dna -revcomp -nmotifs 5 -w 40 -brief 4000 -oc meme_rs/ "
   ]
  },
  {
   "cell_type": "code",
   "execution_count": 10,
   "metadata": {},
   "outputs": [],
   "source": [
    "#### promoter E.coli #######\n",
    "import pandas as pd\n",
    "promoter_file=pd.read_csv(\"genome_predictions_E_coli_0.9_promoter.csv\", sep=\"\\t\") ###input file 2\n",
    "name_file = \"Ecoli_promoter_prediction_filter_0.9.fasta\"\n",
    "with open (name_file,\"w\") as wf:\n",
    "        count=0\n",
    "        for i, row in promoter_file.iterrows():\n",
    "            count +=1\n",
    "            wf.write ( \">sequence_\"+str(count)+\"\\n\")\n",
    "            wf.write (str(row.sequence)+\"\\n\")"
   ]
  },
  {
   "cell_type": "code",
   "execution_count": null,
   "metadata": {},
   "outputs": [],
   "source": [
    "### motif by meme ###\n",
    "!meme Ecoli_promoter_prediction_filter_0.9.fasta -dna -revcomp -nmotifs 5 -w 40 -brief 4000 -oc meme_rs/"
   ]
  }
 ],
 "metadata": {
  "kernelspec": {
   "display_name": "Python 3",
   "language": "python",
   "name": "python3"
  },
  "language_info": {
   "codemirror_mode": {
    "name": "ipython",
    "version": 3
   },
   "file_extension": ".py",
   "mimetype": "text/x-python",
   "name": "python",
   "nbconvert_exporter": "python",
   "pygments_lexer": "ipython3",
   "version": "3.8.10"
  }
 },
 "nbformat": 4,
 "nbformat_minor": 5
}
